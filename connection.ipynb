{
 "metadata": {
  "language_info": {
   "codemirror_mode": {
    "name": "ipython",
    "version": 3
   },
   "file_extension": ".py",
   "mimetype": "text/x-python",
   "name": "python",
   "nbconvert_exporter": "python",
   "pygments_lexer": "ipython3",
   "version": 3
  },
  "orig_nbformat": 2
 },
 "nbformat": 4,
 "nbformat_minor": 2,
 "cells": [
  {
   "cell_type": "code",
   "execution_count": null,
   "metadata": {},
   "outputs": [],
   "source": [
    "# import dependencies\n",
    "from sqlalchemy import create_engine\n",
    "import sqlalchemy\n",
    "from sqlalchemy.ext.automap import automap_base\n",
    "from sqlalchemy.orm import Session\n",
    "import psycopg2\n",
    "import pandas as pd\n",
    "from passwords import password"
   ]
  },
  {
   "cell_type": "code",
   "execution_count": null,
   "metadata": {},
   "outputs": [],
   "source": [
    "# noc data to Postgres\n",
    "# Create an engine instance\n",
    "alchemyEngine   = create_engine(\"postgres:jh0njr&p3nny@database-1.c84rdrfagztk.us-east-1.rds.amazonaws.com/postgres\", pool_recycle=3600)\n",
    "\n",
    "# Connect to PostgreSQL server\n",
    "postgreSQLConnection = alchemyEngine.connect()\n",
    "postgreSQLTable = \"ticker\"\n",
    "\n",
    "try:\n",
    "\n",
    "    frame = noc_data_clean.to_sql(postgreSQLTable, postgreSQLConnection, if_exists='fail')\n",
    "\n",
    "except ValueError as vx:\n",
    "\n",
    "    print(vx)\n",
    "\n",
    "except Exception as ex:  \n",
    "\n",
    "    print(ex)\n",
    "\n",
    "else:\n",
    "\n",
    "    print(\"PostgreSQL Table %s has been created successfully.\"%postgreSQLTable)\n",
    "\n",
    "finally:\n",
    "\n",
    "    postgreSQLConnection.close()"
   ]
  }
 ]
}